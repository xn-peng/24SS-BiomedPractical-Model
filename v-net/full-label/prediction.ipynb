{
 "cells": [
  {
   "cell_type": "code",
   "execution_count": 1,
   "id": "a6c009bf-68ab-4266-b66a-9c9fc2fe9f7a",
   "metadata": {},
   "outputs": [],
   "source": [
    "import torch\n",
    "import torch.nn as nn\n",
    "from torch.utils.data import DataLoader\n",
    "import numpy as np\n",
    "from vnet import VNetWithDiagnosis\n",
    "import nibabel as nib\n",
    "import os\n",
    "\n",
    "os.environ['CUDA_LAUNCH_BLOCKING'] = \"1\"\n",
    "os.environ['KMP_DUPLICATE_LIB_OK'] = 'TRUE'\n",
    "\n",
    "def load_model(model_path, device):\n",
    "    model = VNetWithDiagnosis()\n",
    "    model.load_state_dict(torch.load(model_path, map_location=device))\n",
    "    model.to(device)\n",
    "    model.eval()\n",
    "    return model\n",
    "\n",
    "def test_model(model, mri_tensor, diag_data, device):\n",
    "    with torch.no_grad():\n",
    "        mri_tensor = mri_tensor.to(device)\n",
    "        diag_tensor = torch.tensor(diag_data, dtype=torch.float32).unsqueeze(0).to(device)\n",
    "        output = model(mri_tensor, diag_tensor)\n",
    "        return output.cpu().numpy()\n",
    "\n",
    "\n",
    "\n",
    "\n"
   ]
  },
  {
   "cell_type": "code",
   "execution_count": 2,
   "id": "c5b171ce-f4a3-45fc-bff8-6261ea03c7bd",
   "metadata": {},
   "outputs": [],
   "source": [
    "\n",
    "\n",
    "def save_tensor_as_nifti(tensor, output_filename):\n",
    "    if isinstance(tensor, torch.Tensor):\n",
    "        if tensor.is_cuda:\n",
    "            tensor = tensor.cpu() \n",
    "        array = tensor.numpy()\n",
    "    elif isinstance(tensor, np.ndarray):\n",
    "        array = tensor\n",
    "    else:\n",
    "        raise TypeError(\"Input must be a torch.Tensor or a numpy.ndarray.\")\n",
    "    \n",
    "    array = np.squeeze(array)\n",
    "\n",
    "    nifti_img = nib.Nifti1Image(array, affine=np.eye(4))\n",
    "\n",
    "    nib.save(nifti_img, output_filename)\n",
    "    print(f\"Saved NIfTI image to {output_filename}\")\n",
    "\n",
    "\n"
   ]
  },
  {
   "cell_type": "code",
   "execution_count": null,
   "id": "3b5cfad9-64c4-4d30-ae3b-a7dd6e200a5a",
   "metadata": {},
   "outputs": [],
   "source": [
    "device = torch.device(\"cuda\" if torch.cuda.is_available() else \"cpu\")\n",
    "model_path = 'trained_vnet.pth'\n",
    "\n",
    "model = load_model(model_path, device)\n",
    "\n",
    "mri_path = \"../../Aims-Tbi/scan_0106_T1.nii.gz\"\n",
    "mri_img = nib.load(mri_path).get_fdata()\n",
    "mri_tensor = torch.tensor(mri_img, dtype=torch.float32).unsqueeze(0).unsqueeze(0)  # 添加必要的维度\n",
    "\n",
    "age = float(15.18)\n",
    "sex = float(2)\n",
    "tsi = float(2)\n",
    "scan_manufacturer = float(2)\n",
    "diag_data = [age, sex, tsi, scan_manufacturer]\n",
    "\n",
    "output = test_model(model, mri_tensor, diag_data, device)\n",
    "print(\"Model output:\", output.shape)\n",
    "save_tensor_as_nifti(output, 'output_image.nii.gz')"
   ]
  },
  {
   "cell_type": "code",
   "execution_count": null,
   "id": "cc04c785-c1e8-43eb-925f-29ad33c49664",
   "metadata": {},
   "outputs": [],
   "source": []
  }
 ],
 "metadata": {
  "kernelspec": {
   "display_name": "Python 3 (ipykernel)",
   "language": "python",
   "name": "python3"
  },
  "language_info": {
   "codemirror_mode": {
    "name": "ipython",
    "version": 3
   },
   "file_extension": ".py",
   "mimetype": "text/x-python",
   "name": "python",
   "nbconvert_exporter": "python",
   "pygments_lexer": "ipython3",
   "version": "3.11.8"
  }
 },
 "nbformat": 4,
 "nbformat_minor": 5
}
